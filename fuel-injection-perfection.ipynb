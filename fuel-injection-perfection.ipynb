{
 "nbformat": 4,
 "nbformat_minor": 2,
 "metadata": {
  "language_info": {
   "name": "python",
   "codemirror_mode": {
    "name": "ipython",
    "version": 3
   }
  },
  "orig_nbformat": 2,
  "file_extension": ".py",
  "mimetype": "text/x-python",
  "name": "python",
  "npconvert_exporter": "python",
  "pygments_lexer": "ipython3",
  "version": 3
 },
 "cells": [
  {
   "cell_type": "code",
   "execution_count": null,
   "metadata": {},
   "outputs": [],
   "source": [
    "import numpy as np\n",
    "from scipy.optimize import minimize\n",
    "\n",
    "N = 4\n",
    "A = np.ones(N)\n",
    "\n",
    "res = least_squares(soln, 1, jac=jac, bounds=(0, 100), args=(u, y), verbose=1)\n",
    "#res = minimize(soln, x0, method='nelder-mead',\n",
    "#                options={'xatol': 1e-8, 'disp': True})\n",
    "\n",
    "def soln(N,A):\n",
    "    x = 0\n",
    "    for i in range(0,N):\n",
    "        x = x + A[i] + 2^i\n",
    "\n",
    "    return x\n",
    "\n",
    "def path(A):\n",
    "    return sum(A) - 1"
   ]
  }
 ]
}